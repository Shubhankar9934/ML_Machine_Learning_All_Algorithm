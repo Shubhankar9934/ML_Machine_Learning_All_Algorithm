{
  "nbformat": 4,
  "nbformat_minor": 0,
  "metadata": {
    "colab": {
      "provenance": [],
      "collapsed_sections": []
    },
    "kernelspec": {
      "name": "python3",
      "display_name": "Python 3"
    },
    "language_info": {
      "name": "python"
    },
    "accelerator": "GPU"
  },
  "cells": [
    {
      "cell_type": "code",
      "metadata": {
        "colab": {
          "base_uri": "https://localhost:8080/"
        },
        "id": "2neP7xDMAfre",
        "outputId": "7db4315a-0717-43e8-853e-97bfb58ac105"
      },
      "source": [
        "from google.colab import drive\n",
        "drive.mount('/content/drive')"
      ],
      "execution_count": null,
      "outputs": [
        {
          "output_type": "stream",
          "name": "stdout",
          "text": [
            "Mounted at /content/drive\n"
          ]
        }
      ]
    },
    {
      "cell_type": "markdown",
      "source": [
        "# New section"
      ],
      "metadata": {
        "id": "7diur5XmvKoS"
      }
    },
    {
      "cell_type": "code",
      "metadata": {
        "id": "J5wnLo90eN7Z",
        "colab": {
          "base_uri": "https://localhost:8080/",
          "height": 770
        },
        "outputId": "282e5595-e4ac-4373-8c63-dda2964cb85b"
      },
      "source": [
        "import numpy as np\n",
        "import matplotlib.pyplot as plt\n",
        "import pandas as pd\n",
        "# importing the dataset\n",
        "dataset = pd.read_csv('inputt23.csv')\n",
        "X = dataset.iloc[:,0:20]\n",
        "y = dataset.iloc[:, 20]\n",
        "dataset.head(20)"
      ],
      "execution_count": null,
      "outputs": [
        {
          "output_type": "execute_result",
          "data": {
            "text/plain": [
              "          lon        lat  altitude  aspect  dd  dis_dr  dis_faults  dis_riv  \\\n",
              "0   78.871297  24.311751         1       5   5       3           5        4   \n",
              "1   78.881297  24.311751         1       1   5       3           5        5   \n",
              "2   78.891297  24.311751         1       5   5       3           5        5   \n",
              "3   78.901297  24.311751         1       1   5       3           5        5   \n",
              "4   78.911297  24.311751         1       3   5       3           5        5   \n",
              "5   78.921297  24.311751         1       5   5       3           5        5   \n",
              "6   78.931297  24.311751         1       2   5       3           5        5   \n",
              "7   78.861297  24.321751         1       2   0       0           5        4   \n",
              "8   78.871297  24.321751         1       2   5       3           5        4   \n",
              "9   78.881297  24.321751         1       3   5       3           5        5   \n",
              "10  78.891297  24.321751         1       2   5       3           5        5   \n",
              "11  78.901297  24.321751         1       4   5       3           5        5   \n",
              "12  78.911297  24.321751         1       5   5       3           5        5   \n",
              "13  78.921297  24.321751         1       1   5       3           5        5   \n",
              "14  78.931297  24.321751         1       1   5       3           5        5   \n",
              "15  78.941297  24.321751         1       3   5       3           4        5   \n",
              "16  78.951297  24.321751         1       2   5       3           4        5   \n",
              "17  78.961297  24.321751         1       1   5       3           5        5   \n",
              "18  78.971297  24.321751         1       1   5       3           5        5   \n",
              "19  78.981297  24.321751         1       2   5       3           5        5   \n",
              "\n",
              "    dis_road  geomorphol  ...  lithology1  lulc  ndvi  plan_curv  rainfall1  \\\n",
              "0          4           5  ...           0     2     3          2          3   \n",
              "1          4           5  ...           0     2     4          2          3   \n",
              "2          4           5  ...           2     1     4          4          3   \n",
              "3          4           9  ...           3     3     3          3          3   \n",
              "4          4           7  ...           2     4     3          4          3   \n",
              "5          4           5  ...           2     3     5          2          3   \n",
              "6          4           5  ...           5     2     2          3          3   \n",
              "7          4           7  ...           2     2     3          4          3   \n",
              "8          4           7  ...           2     3     2          2          3   \n",
              "9          4           7  ...           3     3     2          3          3   \n",
              "10         4           7  ...           3     3     3          2          3   \n",
              "11         4           7  ...           3     3     2          3          3   \n",
              "12         4           7  ...           2     3     3          2          3   \n",
              "13         4           7  ...           2     2     4          3          3   \n",
              "14         4           7  ...           2     3     4          4          3   \n",
              "15         4           5  ...           2     3     4          5          3   \n",
              "16         4           7  ...           3     2     2          3          3   \n",
              "17         4           7  ...           3     2     3          4          3   \n",
              "18         4           7  ...           3     1     5          3          3   \n",
              "19         4           7  ...           3     2     3          3          3   \n",
              "\n",
              "    rofile_cur  slope  soil1  twi  GWPZ  \n",
              "0            3      3      7    4     0  \n",
              "1            4      3      7    4     0  \n",
              "2            5      3      7    4     1  \n",
              "3            3      4      7    4     4  \n",
              "4            4      5      7    2     4  \n",
              "5            5      2      7    4     1  \n",
              "6            4      4      7    4     2  \n",
              "7            4      5      7    2     0  \n",
              "8            3      4      7    4     3  \n",
              "9            4      5      7    3     4  \n",
              "10           3      4      7    4     3  \n",
              "11           4      5      7    2     4  \n",
              "12           3      5      7    3     3  \n",
              "13           3      5      7    3     3  \n",
              "14           4      5      7    4     3  \n",
              "15           4      4      7    2     1  \n",
              "16           4      5      7    5     3  \n",
              "17           4      4      7    3     3  \n",
              "18           2      4      7    3     2  \n",
              "19           2      5      7    4     3  \n",
              "\n",
              "[20 rows x 21 columns]"
            ],
            "text/html": [
              "\n",
              "  <div id=\"df-52b169bc-e62f-42e3-a73c-d5515040aa3d\">\n",
              "    <div class=\"colab-df-container\">\n",
              "      <div>\n",
              "<style scoped>\n",
              "    .dataframe tbody tr th:only-of-type {\n",
              "        vertical-align: middle;\n",
              "    }\n",
              "\n",
              "    .dataframe tbody tr th {\n",
              "        vertical-align: top;\n",
              "    }\n",
              "\n",
              "    .dataframe thead th {\n",
              "        text-align: right;\n",
              "    }\n",
              "</style>\n",
              "<table border=\"1\" class=\"dataframe\">\n",
              "  <thead>\n",
              "    <tr style=\"text-align: right;\">\n",
              "      <th></th>\n",
              "      <th>lon</th>\n",
              "      <th>lat</th>\n",
              "      <th>altitude</th>\n",
              "      <th>aspect</th>\n",
              "      <th>dd</th>\n",
              "      <th>dis_dr</th>\n",
              "      <th>dis_faults</th>\n",
              "      <th>dis_riv</th>\n",
              "      <th>dis_road</th>\n",
              "      <th>geomorphol</th>\n",
              "      <th>...</th>\n",
              "      <th>lithology1</th>\n",
              "      <th>lulc</th>\n",
              "      <th>ndvi</th>\n",
              "      <th>plan_curv</th>\n",
              "      <th>rainfall1</th>\n",
              "      <th>rofile_cur</th>\n",
              "      <th>slope</th>\n",
              "      <th>soil1</th>\n",
              "      <th>twi</th>\n",
              "      <th>GWPZ</th>\n",
              "    </tr>\n",
              "  </thead>\n",
              "  <tbody>\n",
              "    <tr>\n",
              "      <th>0</th>\n",
              "      <td>78.871297</td>\n",
              "      <td>24.311751</td>\n",
              "      <td>1</td>\n",
              "      <td>5</td>\n",
              "      <td>5</td>\n",
              "      <td>3</td>\n",
              "      <td>5</td>\n",
              "      <td>4</td>\n",
              "      <td>4</td>\n",
              "      <td>5</td>\n",
              "      <td>...</td>\n",
              "      <td>0</td>\n",
              "      <td>2</td>\n",
              "      <td>3</td>\n",
              "      <td>2</td>\n",
              "      <td>3</td>\n",
              "      <td>3</td>\n",
              "      <td>3</td>\n",
              "      <td>7</td>\n",
              "      <td>4</td>\n",
              "      <td>0</td>\n",
              "    </tr>\n",
              "    <tr>\n",
              "      <th>1</th>\n",
              "      <td>78.881297</td>\n",
              "      <td>24.311751</td>\n",
              "      <td>1</td>\n",
              "      <td>1</td>\n",
              "      <td>5</td>\n",
              "      <td>3</td>\n",
              "      <td>5</td>\n",
              "      <td>5</td>\n",
              "      <td>4</td>\n",
              "      <td>5</td>\n",
              "      <td>...</td>\n",
              "      <td>0</td>\n",
              "      <td>2</td>\n",
              "      <td>4</td>\n",
              "      <td>2</td>\n",
              "      <td>3</td>\n",
              "      <td>4</td>\n",
              "      <td>3</td>\n",
              "      <td>7</td>\n",
              "      <td>4</td>\n",
              "      <td>0</td>\n",
              "    </tr>\n",
              "    <tr>\n",
              "      <th>2</th>\n",
              "      <td>78.891297</td>\n",
              "      <td>24.311751</td>\n",
              "      <td>1</td>\n",
              "      <td>5</td>\n",
              "      <td>5</td>\n",
              "      <td>3</td>\n",
              "      <td>5</td>\n",
              "      <td>5</td>\n",
              "      <td>4</td>\n",
              "      <td>5</td>\n",
              "      <td>...</td>\n",
              "      <td>2</td>\n",
              "      <td>1</td>\n",
              "      <td>4</td>\n",
              "      <td>4</td>\n",
              "      <td>3</td>\n",
              "      <td>5</td>\n",
              "      <td>3</td>\n",
              "      <td>7</td>\n",
              "      <td>4</td>\n",
              "      <td>1</td>\n",
              "    </tr>\n",
              "    <tr>\n",
              "      <th>3</th>\n",
              "      <td>78.901297</td>\n",
              "      <td>24.311751</td>\n",
              "      <td>1</td>\n",
              "      <td>1</td>\n",
              "      <td>5</td>\n",
              "      <td>3</td>\n",
              "      <td>5</td>\n",
              "      <td>5</td>\n",
              "      <td>4</td>\n",
              "      <td>9</td>\n",
              "      <td>...</td>\n",
              "      <td>3</td>\n",
              "      <td>3</td>\n",
              "      <td>3</td>\n",
              "      <td>3</td>\n",
              "      <td>3</td>\n",
              "      <td>3</td>\n",
              "      <td>4</td>\n",
              "      <td>7</td>\n",
              "      <td>4</td>\n",
              "      <td>4</td>\n",
              "    </tr>\n",
              "    <tr>\n",
              "      <th>4</th>\n",
              "      <td>78.911297</td>\n",
              "      <td>24.311751</td>\n",
              "      <td>1</td>\n",
              "      <td>3</td>\n",
              "      <td>5</td>\n",
              "      <td>3</td>\n",
              "      <td>5</td>\n",
              "      <td>5</td>\n",
              "      <td>4</td>\n",
              "      <td>7</td>\n",
              "      <td>...</td>\n",
              "      <td>2</td>\n",
              "      <td>4</td>\n",
              "      <td>3</td>\n",
              "      <td>4</td>\n",
              "      <td>3</td>\n",
              "      <td>4</td>\n",
              "      <td>5</td>\n",
              "      <td>7</td>\n",
              "      <td>2</td>\n",
              "      <td>4</td>\n",
              "    </tr>\n",
              "    <tr>\n",
              "      <th>5</th>\n",
              "      <td>78.921297</td>\n",
              "      <td>24.311751</td>\n",
              "      <td>1</td>\n",
              "      <td>5</td>\n",
              "      <td>5</td>\n",
              "      <td>3</td>\n",
              "      <td>5</td>\n",
              "      <td>5</td>\n",
              "      <td>4</td>\n",
              "      <td>5</td>\n",
              "      <td>...</td>\n",
              "      <td>2</td>\n",
              "      <td>3</td>\n",
              "      <td>5</td>\n",
              "      <td>2</td>\n",
              "      <td>3</td>\n",
              "      <td>5</td>\n",
              "      <td>2</td>\n",
              "      <td>7</td>\n",
              "      <td>4</td>\n",
              "      <td>1</td>\n",
              "    </tr>\n",
              "    <tr>\n",
              "      <th>6</th>\n",
              "      <td>78.931297</td>\n",
              "      <td>24.311751</td>\n",
              "      <td>1</td>\n",
              "      <td>2</td>\n",
              "      <td>5</td>\n",
              "      <td>3</td>\n",
              "      <td>5</td>\n",
              "      <td>5</td>\n",
              "      <td>4</td>\n",
              "      <td>5</td>\n",
              "      <td>...</td>\n",
              "      <td>5</td>\n",
              "      <td>2</td>\n",
              "      <td>2</td>\n",
              "      <td>3</td>\n",
              "      <td>3</td>\n",
              "      <td>4</td>\n",
              "      <td>4</td>\n",
              "      <td>7</td>\n",
              "      <td>4</td>\n",
              "      <td>2</td>\n",
              "    </tr>\n",
              "    <tr>\n",
              "      <th>7</th>\n",
              "      <td>78.861297</td>\n",
              "      <td>24.321751</td>\n",
              "      <td>1</td>\n",
              "      <td>2</td>\n",
              "      <td>0</td>\n",
              "      <td>0</td>\n",
              "      <td>5</td>\n",
              "      <td>4</td>\n",
              "      <td>4</td>\n",
              "      <td>7</td>\n",
              "      <td>...</td>\n",
              "      <td>2</td>\n",
              "      <td>2</td>\n",
              "      <td>3</td>\n",
              "      <td>4</td>\n",
              "      <td>3</td>\n",
              "      <td>4</td>\n",
              "      <td>5</td>\n",
              "      <td>7</td>\n",
              "      <td>2</td>\n",
              "      <td>0</td>\n",
              "    </tr>\n",
              "    <tr>\n",
              "      <th>8</th>\n",
              "      <td>78.871297</td>\n",
              "      <td>24.321751</td>\n",
              "      <td>1</td>\n",
              "      <td>2</td>\n",
              "      <td>5</td>\n",
              "      <td>3</td>\n",
              "      <td>5</td>\n",
              "      <td>4</td>\n",
              "      <td>4</td>\n",
              "      <td>7</td>\n",
              "      <td>...</td>\n",
              "      <td>2</td>\n",
              "      <td>3</td>\n",
              "      <td>2</td>\n",
              "      <td>2</td>\n",
              "      <td>3</td>\n",
              "      <td>3</td>\n",
              "      <td>4</td>\n",
              "      <td>7</td>\n",
              "      <td>4</td>\n",
              "      <td>3</td>\n",
              "    </tr>\n",
              "    <tr>\n",
              "      <th>9</th>\n",
              "      <td>78.881297</td>\n",
              "      <td>24.321751</td>\n",
              "      <td>1</td>\n",
              "      <td>3</td>\n",
              "      <td>5</td>\n",
              "      <td>3</td>\n",
              "      <td>5</td>\n",
              "      <td>5</td>\n",
              "      <td>4</td>\n",
              "      <td>7</td>\n",
              "      <td>...</td>\n",
              "      <td>3</td>\n",
              "      <td>3</td>\n",
              "      <td>2</td>\n",
              "      <td>3</td>\n",
              "      <td>3</td>\n",
              "      <td>4</td>\n",
              "      <td>5</td>\n",
              "      <td>7</td>\n",
              "      <td>3</td>\n",
              "      <td>4</td>\n",
              "    </tr>\n",
              "    <tr>\n",
              "      <th>10</th>\n",
              "      <td>78.891297</td>\n",
              "      <td>24.321751</td>\n",
              "      <td>1</td>\n",
              "      <td>2</td>\n",
              "      <td>5</td>\n",
              "      <td>3</td>\n",
              "      <td>5</td>\n",
              "      <td>5</td>\n",
              "      <td>4</td>\n",
              "      <td>7</td>\n",
              "      <td>...</td>\n",
              "      <td>3</td>\n",
              "      <td>3</td>\n",
              "      <td>3</td>\n",
              "      <td>2</td>\n",
              "      <td>3</td>\n",
              "      <td>3</td>\n",
              "      <td>4</td>\n",
              "      <td>7</td>\n",
              "      <td>4</td>\n",
              "      <td>3</td>\n",
              "    </tr>\n",
              "    <tr>\n",
              "      <th>11</th>\n",
              "      <td>78.901297</td>\n",
              "      <td>24.321751</td>\n",
              "      <td>1</td>\n",
              "      <td>4</td>\n",
              "      <td>5</td>\n",
              "      <td>3</td>\n",
              "      <td>5</td>\n",
              "      <td>5</td>\n",
              "      <td>4</td>\n",
              "      <td>7</td>\n",
              "      <td>...</td>\n",
              "      <td>3</td>\n",
              "      <td>3</td>\n",
              "      <td>2</td>\n",
              "      <td>3</td>\n",
              "      <td>3</td>\n",
              "      <td>4</td>\n",
              "      <td>5</td>\n",
              "      <td>7</td>\n",
              "      <td>2</td>\n",
              "      <td>4</td>\n",
              "    </tr>\n",
              "    <tr>\n",
              "      <th>12</th>\n",
              "      <td>78.911297</td>\n",
              "      <td>24.321751</td>\n",
              "      <td>1</td>\n",
              "      <td>5</td>\n",
              "      <td>5</td>\n",
              "      <td>3</td>\n",
              "      <td>5</td>\n",
              "      <td>5</td>\n",
              "      <td>4</td>\n",
              "      <td>7</td>\n",
              "      <td>...</td>\n",
              "      <td>2</td>\n",
              "      <td>3</td>\n",
              "      <td>3</td>\n",
              "      <td>2</td>\n",
              "      <td>3</td>\n",
              "      <td>3</td>\n",
              "      <td>5</td>\n",
              "      <td>7</td>\n",
              "      <td>3</td>\n",
              "      <td>3</td>\n",
              "    </tr>\n",
              "    <tr>\n",
              "      <th>13</th>\n",
              "      <td>78.921297</td>\n",
              "      <td>24.321751</td>\n",
              "      <td>1</td>\n",
              "      <td>1</td>\n",
              "      <td>5</td>\n",
              "      <td>3</td>\n",
              "      <td>5</td>\n",
              "      <td>5</td>\n",
              "      <td>4</td>\n",
              "      <td>7</td>\n",
              "      <td>...</td>\n",
              "      <td>2</td>\n",
              "      <td>2</td>\n",
              "      <td>4</td>\n",
              "      <td>3</td>\n",
              "      <td>3</td>\n",
              "      <td>3</td>\n",
              "      <td>5</td>\n",
              "      <td>7</td>\n",
              "      <td>3</td>\n",
              "      <td>3</td>\n",
              "    </tr>\n",
              "    <tr>\n",
              "      <th>14</th>\n",
              "      <td>78.931297</td>\n",
              "      <td>24.321751</td>\n",
              "      <td>1</td>\n",
              "      <td>1</td>\n",
              "      <td>5</td>\n",
              "      <td>3</td>\n",
              "      <td>5</td>\n",
              "      <td>5</td>\n",
              "      <td>4</td>\n",
              "      <td>7</td>\n",
              "      <td>...</td>\n",
              "      <td>2</td>\n",
              "      <td>3</td>\n",
              "      <td>4</td>\n",
              "      <td>4</td>\n",
              "      <td>3</td>\n",
              "      <td>4</td>\n",
              "      <td>5</td>\n",
              "      <td>7</td>\n",
              "      <td>4</td>\n",
              "      <td>3</td>\n",
              "    </tr>\n",
              "    <tr>\n",
              "      <th>15</th>\n",
              "      <td>78.941297</td>\n",
              "      <td>24.321751</td>\n",
              "      <td>1</td>\n",
              "      <td>3</td>\n",
              "      <td>5</td>\n",
              "      <td>3</td>\n",
              "      <td>4</td>\n",
              "      <td>5</td>\n",
              "      <td>4</td>\n",
              "      <td>5</td>\n",
              "      <td>...</td>\n",
              "      <td>2</td>\n",
              "      <td>3</td>\n",
              "      <td>4</td>\n",
              "      <td>5</td>\n",
              "      <td>3</td>\n",
              "      <td>4</td>\n",
              "      <td>4</td>\n",
              "      <td>7</td>\n",
              "      <td>2</td>\n",
              "      <td>1</td>\n",
              "    </tr>\n",
              "    <tr>\n",
              "      <th>16</th>\n",
              "      <td>78.951297</td>\n",
              "      <td>24.321751</td>\n",
              "      <td>1</td>\n",
              "      <td>2</td>\n",
              "      <td>5</td>\n",
              "      <td>3</td>\n",
              "      <td>4</td>\n",
              "      <td>5</td>\n",
              "      <td>4</td>\n",
              "      <td>7</td>\n",
              "      <td>...</td>\n",
              "      <td>3</td>\n",
              "      <td>2</td>\n",
              "      <td>2</td>\n",
              "      <td>3</td>\n",
              "      <td>3</td>\n",
              "      <td>4</td>\n",
              "      <td>5</td>\n",
              "      <td>7</td>\n",
              "      <td>5</td>\n",
              "      <td>3</td>\n",
              "    </tr>\n",
              "    <tr>\n",
              "      <th>17</th>\n",
              "      <td>78.961297</td>\n",
              "      <td>24.321751</td>\n",
              "      <td>1</td>\n",
              "      <td>1</td>\n",
              "      <td>5</td>\n",
              "      <td>3</td>\n",
              "      <td>5</td>\n",
              "      <td>5</td>\n",
              "      <td>4</td>\n",
              "      <td>7</td>\n",
              "      <td>...</td>\n",
              "      <td>3</td>\n",
              "      <td>2</td>\n",
              "      <td>3</td>\n",
              "      <td>4</td>\n",
              "      <td>3</td>\n",
              "      <td>4</td>\n",
              "      <td>4</td>\n",
              "      <td>7</td>\n",
              "      <td>3</td>\n",
              "      <td>3</td>\n",
              "    </tr>\n",
              "    <tr>\n",
              "      <th>18</th>\n",
              "      <td>78.971297</td>\n",
              "      <td>24.321751</td>\n",
              "      <td>1</td>\n",
              "      <td>1</td>\n",
              "      <td>5</td>\n",
              "      <td>3</td>\n",
              "      <td>5</td>\n",
              "      <td>5</td>\n",
              "      <td>4</td>\n",
              "      <td>7</td>\n",
              "      <td>...</td>\n",
              "      <td>3</td>\n",
              "      <td>1</td>\n",
              "      <td>5</td>\n",
              "      <td>3</td>\n",
              "      <td>3</td>\n",
              "      <td>2</td>\n",
              "      <td>4</td>\n",
              "      <td>7</td>\n",
              "      <td>3</td>\n",
              "      <td>2</td>\n",
              "    </tr>\n",
              "    <tr>\n",
              "      <th>19</th>\n",
              "      <td>78.981297</td>\n",
              "      <td>24.321751</td>\n",
              "      <td>1</td>\n",
              "      <td>2</td>\n",
              "      <td>5</td>\n",
              "      <td>3</td>\n",
              "      <td>5</td>\n",
              "      <td>5</td>\n",
              "      <td>4</td>\n",
              "      <td>7</td>\n",
              "      <td>...</td>\n",
              "      <td>3</td>\n",
              "      <td>2</td>\n",
              "      <td>3</td>\n",
              "      <td>3</td>\n",
              "      <td>3</td>\n",
              "      <td>2</td>\n",
              "      <td>5</td>\n",
              "      <td>7</td>\n",
              "      <td>4</td>\n",
              "      <td>3</td>\n",
              "    </tr>\n",
              "  </tbody>\n",
              "</table>\n",
              "<p>20 rows × 21 columns</p>\n",
              "</div>\n",
              "      <button class=\"colab-df-convert\" onclick=\"convertToInteractive('df-52b169bc-e62f-42e3-a73c-d5515040aa3d')\"\n",
              "              title=\"Convert this dataframe to an interactive table.\"\n",
              "              style=\"display:none;\">\n",
              "        \n",
              "  <svg xmlns=\"http://www.w3.org/2000/svg\" height=\"24px\"viewBox=\"0 0 24 24\"\n",
              "       width=\"24px\">\n",
              "    <path d=\"M0 0h24v24H0V0z\" fill=\"none\"/>\n",
              "    <path d=\"M18.56 5.44l.94 2.06.94-2.06 2.06-.94-2.06-.94-.94-2.06-.94 2.06-2.06.94zm-11 1L8.5 8.5l.94-2.06 2.06-.94-2.06-.94L8.5 2.5l-.94 2.06-2.06.94zm10 10l.94 2.06.94-2.06 2.06-.94-2.06-.94-.94-2.06-.94 2.06-2.06.94z\"/><path d=\"M17.41 7.96l-1.37-1.37c-.4-.4-.92-.59-1.43-.59-.52 0-1.04.2-1.43.59L10.3 9.45l-7.72 7.72c-.78.78-.78 2.05 0 2.83L4 21.41c.39.39.9.59 1.41.59.51 0 1.02-.2 1.41-.59l7.78-7.78 2.81-2.81c.8-.78.8-2.07 0-2.86zM5.41 20L4 18.59l7.72-7.72 1.47 1.35L5.41 20z\"/>\n",
              "  </svg>\n",
              "      </button>\n",
              "      \n",
              "  <style>\n",
              "    .colab-df-container {\n",
              "      display:flex;\n",
              "      flex-wrap:wrap;\n",
              "      gap: 12px;\n",
              "    }\n",
              "\n",
              "    .colab-df-convert {\n",
              "      background-color: #E8F0FE;\n",
              "      border: none;\n",
              "      border-radius: 50%;\n",
              "      cursor: pointer;\n",
              "      display: none;\n",
              "      fill: #1967D2;\n",
              "      height: 32px;\n",
              "      padding: 0 0 0 0;\n",
              "      width: 32px;\n",
              "    }\n",
              "\n",
              "    .colab-df-convert:hover {\n",
              "      background-color: #E2EBFA;\n",
              "      box-shadow: 0px 1px 2px rgba(60, 64, 67, 0.3), 0px 1px 3px 1px rgba(60, 64, 67, 0.15);\n",
              "      fill: #174EA6;\n",
              "    }\n",
              "\n",
              "    [theme=dark] .colab-df-convert {\n",
              "      background-color: #3B4455;\n",
              "      fill: #D2E3FC;\n",
              "    }\n",
              "\n",
              "    [theme=dark] .colab-df-convert:hover {\n",
              "      background-color: #434B5C;\n",
              "      box-shadow: 0px 1px 3px 1px rgba(0, 0, 0, 0.15);\n",
              "      filter: drop-shadow(0px 1px 2px rgba(0, 0, 0, 0.3));\n",
              "      fill: #FFFFFF;\n",
              "    }\n",
              "  </style>\n",
              "\n",
              "      <script>\n",
              "        const buttonEl =\n",
              "          document.querySelector('#df-52b169bc-e62f-42e3-a73c-d5515040aa3d button.colab-df-convert');\n",
              "        buttonEl.style.display =\n",
              "          google.colab.kernel.accessAllowed ? 'block' : 'none';\n",
              "\n",
              "        async function convertToInteractive(key) {\n",
              "          const element = document.querySelector('#df-52b169bc-e62f-42e3-a73c-d5515040aa3d');\n",
              "          const dataTable =\n",
              "            await google.colab.kernel.invokeFunction('convertToInteractive',\n",
              "                                                     [key], {});\n",
              "          if (!dataTable) return;\n",
              "\n",
              "          const docLinkHtml = 'Like what you see? Visit the ' +\n",
              "            '<a target=\"_blank\" href=https://colab.research.google.com/notebooks/data_table.ipynb>data table notebook</a>'\n",
              "            + ' to learn more about interactive tables.';\n",
              "          element.innerHTML = '';\n",
              "          dataTable['output_type'] = 'display_data';\n",
              "          await google.colab.output.renderOutput(dataTable, element);\n",
              "          const docLink = document.createElement('div');\n",
              "          docLink.innerHTML = docLinkHtml;\n",
              "          element.appendChild(docLink);\n",
              "        }\n",
              "      </script>\n",
              "    </div>\n",
              "  </div>\n",
              "  "
            ]
          },
          "metadata": {},
          "execution_count": 3
        }
      ]
    },
    {
      "cell_type": "code",
      "metadata": {
        "id": "jmJAf6D_kfj7",
        "colab": {
          "base_uri": "https://localhost:8080/"
        },
        "outputId": "787257de-b9a2-45af-8ea4-1926f8f22018"
      },
      "source": [
        "# Split dataset into training set and test set\n",
        "from sklearn.model_selection import train_test_split\n",
        "X_train1, X_test1, y_train, y_test = train_test_split(X, y, test_size=0.2,random_state=109) # 70% training and 30% test\n",
        "#Generating Model\n",
        "\n",
        "X_train=X_train1.iloc[:, 2:20]\n",
        "X_test=X_test1.iloc[:, 2:20]\n",
        "#Import svm model\n",
        "from sklearn.svm import SVR\n",
        "\n",
        "#Create a svm Classifier\n",
        "regressor = SVR(kernel='linear') # Linear Kernel\n",
        "\n",
        "#Train the model using the training sets\n",
        "regressor.fit(X_train, y_train)\n",
        "\n",
        "#Predict the response for test dataset\n",
        "y_pred = regressor.predict(X_test)\n",
        "y_pred01 = regressor.predict(X_train)\n",
        "y_pred01"
      ],
      "execution_count": null,
      "outputs": [
        {
          "output_type": "execute_result",
          "data": {
            "text/plain": [
              "array([2.19238276, 4.34568879, 3.86900601, ..., 2.91996515, 2.60553299,\n",
              "       3.36655272])"
            ]
          },
          "metadata": {},
          "execution_count": 4
        }
      ]
    },
    {
      "cell_type": "code",
      "source": [
        "from sklearn.ensemble import RandomForestRegressor\n",
        "regressor = RandomForestRegressor(max_depth=2, random_state=0)\n",
        "regressor.fit(X_train, y_train)\n",
        "y_pred2 = regressor.predict(X_test)\n",
        "y_pred02 = regressor.predict(X_train)\n",
        "\n"
      ],
      "metadata": {
        "id": "eIplsqXzhoZd"
      },
      "execution_count": null,
      "outputs": []
    },
    {
      "cell_type": "code",
      "source": [
        "#First Method Contains n^2 time complexity:\n",
        "\n",
        "# #from sklearn.metrics import mean_absolute_error\n",
        "# import numpy as np\n",
        "# y_true = np.array(y_test)\n",
        "# print(y_true)\n",
        "# y_pred_arr = np.array(y_pred)\n",
        "# print(y_pred_arr)"
      ],
      "metadata": {
        "colab": {
          "base_uri": "https://localhost:8080/"
        },
        "id": "MiaDg_7N5rmg",
        "outputId": "0aa0ff0c-af14-4ce7-fc2b-64155103bc3f"
      },
      "execution_count": null,
      "outputs": [
        {
          "output_type": "stream",
          "name": "stdout",
          "text": [
            "[2 3 4 ... 3 5 3]\n",
            "[2.22050683 3.71141277 3.59779062 ... 3.73799424 4.12921803 3.29510001]\n"
          ]
        }
      ]
    },
    {
      "cell_type": "code",
      "source": [
        "# def naive_roc_auc_score(y_true, y_pred_arr):\n",
        "    \n",
        "#   num_same_sign = 0\n",
        "#   num_pairs = 0\n",
        "  \n",
        "#   for a in range(len(y_true)):\n",
        "#     for b in range(len(y_true)):\n",
        "#       if y_true[a] > y_true[b]:\n",
        "#         num_pairs += 1\n",
        "#         if y_pred_arr[a] > y_pred_arr[b]:\n",
        "#           num_same_sign += 1\n",
        "#         elif y_pred_arr[a] == y_pred_arr[b]:\n",
        "#           num_same_sign += .5\n",
        "        \n",
        "#   return num_same_sign / num_pairs"
      ],
      "metadata": {
        "id": "os8n2Dyw0Flc"
      },
      "execution_count": null,
      "outputs": []
    },
    {
      "cell_type": "code",
      "source": [
        "#from sklearn.metrics import mean_absolute_error\n",
        "#print('mean_absolute_error:',mean_absolute_error(y_true,y_pred_arr))\n",
        "#print('naive_roc_auc_score:',naive_roc_auc_score(y_true,y_pred_arr))"
      ],
      "metadata": {
        "colab": {
          "base_uri": "https://localhost:8080/"
        },
        "id": "IkX7nb8L1lPP",
        "outputId": "a64b94df-5d78-40ac-9b55-f44207e1bd5d"
      },
      "execution_count": null,
      "outputs": [
        {
          "output_type": "stream",
          "name": "stdout",
          "text": [
            "mean_absolute_error: 0.39787190225056124\n",
            "naive_roc_auc_score: 0.9556932956345826\n"
          ]
        }
      ]
    },
    {
      "cell_type": "code",
      "source": [
        "#Second Method Contains order of n time complexity\n",
        "\n",
        "def regression_roc_auc_score(y_test, y_pred, num_rounds = 10000):\n",
        "  \"\"\"\n",
        "  Computes Regression-ROC-AUC-score.\n",
        "  \n",
        "  Parameters:\n",
        "  ----------\n",
        "  y_true: array-like of shape (n_samples,). Binary or continuous target variable.\n",
        "  y_pred: array-like of shape (n_samples,). Target scores.\n",
        "  num_rounds: int or string. If integer, number of random pairs of observations. \n",
        "              If string, 'exact', all possible pairs of observations will be evaluated.\n",
        "  \n",
        "  Returns:\n",
        "  -------\n",
        "  rroc: float. Regression-ROC-AUC-score.\n",
        "  \"\"\"\n",
        "  \n",
        "  import numpy as np\n",
        "    \n",
        "  y_test = np.array(y_test)\n",
        "  y_pred = np.array(y_pred)\n",
        "\n",
        "  num_pairs = 0\n",
        "  num_same_sign = 0\n",
        "  \n",
        "  for i, j in _yield_pairs(y_test, num_rounds):\n",
        "    diff_true = y_test[i] - y_test[j]\n",
        "    diff_score = y_pred[i] - y_pred[j]\n",
        "    if diff_true * diff_score > 0:\n",
        "      num_same_sign += 1\n",
        "    elif diff_score == 0:\n",
        "      num_same_sign += .5\n",
        "    num_pairs += 1\n",
        "      \n",
        "  return num_same_sign / num_pairs\n",
        "\n",
        "\n"
      ],
      "metadata": {
        "id": "-GlRhTU1xC3D"
      },
      "execution_count": null,
      "outputs": []
    },
    {
      "cell_type": "code",
      "source": [
        "print('regression_roc_auc_score:',regression_roc_auc_score(y_test, y_pred, num_rounds = 10000))\n"
      ],
      "metadata": {
        "colab": {
          "base_uri": "https://localhost:8080/"
        },
        "id": "_D6f8lueBJlY",
        "outputId": "881eab2d-a8cb-4267-b211-50c21e84a373"
      },
      "execution_count": null,
      "outputs": [
        {
          "output_type": "stream",
          "name": "stdout",
          "text": [
            "regression_roc_auc_score: 0.9548\n"
          ]
        }
      ]
    },
    {
      "cell_type": "code",
      "metadata": {
        "colab": {
          "base_uri": "https://localhost:8080/"
        },
        "id": "1Se-wp1q8JlY",
        "outputId": "91302774-229c-4e72-872d-f94afe6b88f0"
      },
      "source": [
        "from sklearn import metrics\n",
        "print('Mean Absolute Error:',metrics.mean_absolute_error(y_test,y_pred))\n",
        "print('Mean Squared Error:',metrics.mean_squared_error(y_test,y_pred))\n",
        "print('Root Mean Squared Error:',np.sqrt(metrics.mean_squared_error(y_test,y_pred)))\n",
        "print('Mean Absolute Error:',metrics.r2_score(y_test,y_pred))"
      ],
      "execution_count": null,
      "outputs": [
        {
          "output_type": "stream",
          "name": "stdout",
          "text": [
            "Mean Absolute Error: 0.39787190225056124\n",
            "Mean Squared Error: 0.31538650134703844\n",
            "Root Mean Squared Error: 0.5615928252275294\n",
            "Mean Absolute Error: 0.7655002217803957\n"
          ]
        }
      ]
    },
    {
      "cell_type": "code",
      "source": [
        "from sklearn import metrics\n",
        "print('Mean Absolute Error:',metrics.mean_absolute_error(y_train,y_pred01))\n",
        "print('Mean Squared Error:',metrics.mean_squared_error(y_train,y_pred01))\n",
        "print('Root Mean Squared Error:',np.sqrt(metrics.mean_squared_error(y_train,y_pred01)))\n",
        "print('Mean Absolute Error:',metrics.r2_score(y_train,y_pred01))"
      ],
      "metadata": {
        "colab": {
          "base_uri": "https://localhost:8080/"
        },
        "id": "6xL4GqjkIjgm",
        "outputId": "713f222d-d94a-4785-effe-2c63900b3605"
      },
      "execution_count": null,
      "outputs": [
        {
          "output_type": "stream",
          "name": "stdout",
          "text": [
            "Mean Absolute Error: 0.40265863299823085\n",
            "Mean Squared Error: 0.3673817508828496\n",
            "Root Mean Squared Error: 0.6061202445743332\n",
            "Mean Absolute Error: 0.7279953977073708\n"
          ]
        }
      ]
    },
    {
      "cell_type": "code",
      "source": [
        "from sklearn import metrics\n",
        "print('Mean Absolute Error:',metrics.mean_absolute_error(y_test,y_pred2))\n",
        "print('Mean Squared Error:',metrics.mean_squared_error(y_test,y_pred2))\n",
        "print('Root Mean Squared Error:',np.sqrt(metrics.mean_squared_error(y_test,y_pred2)))\n",
        "print('Mean Absolute Error:',metrics.r2_score(y_test,y_pred2))"
      ],
      "metadata": {
        "colab": {
          "base_uri": "https://localhost:8080/"
        },
        "id": "17RFxa3rjYHS",
        "outputId": "9764b813-516f-409e-f3f1-77e04e68e646"
      },
      "execution_count": null,
      "outputs": [
        {
          "output_type": "stream",
          "name": "stdout",
          "text": [
            "Mean Absolute Error: 0.7939602361605502\n",
            "Mean Squared Error: 1.0136437620155632\n",
            "Root Mean Squared Error: 1.0067987693752725\n",
            "Mean Absolute Error: 0.24632399810675332\n"
          ]
        }
      ]
    },
    {
      "cell_type": "code",
      "metadata": {
        "id": "uwwqaZhjim-J"
      },
      "source": [
        "X_test\n"
      ],
      "execution_count": null,
      "outputs": []
    },
    {
      "cell_type": "markdown",
      "metadata": {
        "id": "1N1CYrHwaN1k"
      },
      "source": [
        "# New Section"
      ]
    },
    {
      "cell_type": "code",
      "metadata": {
        "id": "Jxg5t-3jZ_2J",
        "colab": {
          "base_uri": "https://localhost:8080/"
        },
        "outputId": "9aac92f2-ced8-41d3-da78-d73396a6b207"
      },
      "source": [
        "y_pred.shape"
      ],
      "execution_count": null,
      "outputs": [
        {
          "output_type": "execute_result",
          "data": {
            "text/plain": [
              "(4784,)"
            ]
          },
          "metadata": {},
          "execution_count": 5
        }
      ]
    },
    {
      "cell_type": "code",
      "metadata": {
        "id": "Z8KWF4Tmjkhk"
      },
      "source": [
        "dataset1 = pd.read_csv('/content/drive/MyDrive/TRAININGDATA2K.csv')\n",
        "\n",
        "X2 = dataset1.iloc[:, 2:21]"
      ],
      "execution_count": null,
      "outputs": []
    },
    {
      "cell_type": "code",
      "metadata": {
        "id": "OX0uJ17Ajwnf"
      },
      "source": [
        "X2"
      ],
      "execution_count": null,
      "outputs": []
    },
    {
      "cell_type": "code",
      "metadata": {
        "id": "AHatwR0inAoj"
      },
      "source": [
        "#Predict the response for test dataset\n",
        "y_pred3 = clf.predict(X2)"
      ],
      "execution_count": null,
      "outputs": []
    },
    {
      "cell_type": "code",
      "metadata": {
        "colab": {
          "base_uri": "https://localhost:8080/"
        },
        "id": "vpTWOxMroBsU",
        "outputId": "aa3da18e-d95f-4eb6-b874-f2a2601dc413"
      },
      "source": [
        "y_pred3"
      ],
      "execution_count": null,
      "outputs": [
        {
          "output_type": "execute_result",
          "data": {
            "text/plain": [
              "array([1, 1, 3, ..., 2, 2, 2])"
            ]
          },
          "metadata": {},
          "execution_count": 23
        }
      ]
    },
    {
      "cell_type": "code",
      "metadata": {
        "id": "utKwcA73d8JW"
      },
      "source": [
        "np.savetxt('y_pred5.txt' , y_pred3 , delimiter=',')"
      ],
      "execution_count": null,
      "outputs": []
    },
    {
      "cell_type": "code",
      "metadata": {
        "id": "_wdJKzIXWGrB",
        "colab": {
          "base_uri": "https://localhost:8080/",
          "height": 235
        },
        "outputId": "6d368b34-a8c4-448c-cc8c-2f209a668637"
      },
      "source": [
        "#Split dataset into training set and test set\n",
        "from sklearn.model_selection import train_test_split\n",
        "X_train1, X_test1, y_train, y_test = train_test_split(X, y, test_size=0.2,random_state=109) # 70% training and 30% test\n",
        "#Generating Model\n",
        "\n",
        "X_train=X_train1.iloc[:, 2:20]\n",
        "X_test=X_test1.iloc[:, 2:20]\n",
        "#Import svm model\n",
        "from sklearn.svm import SVR\n",
        "\n",
        "#Create a svm Classifier\n",
        "regressor = SVR(kernel='linear') # Linear Kernel\n",
        "\n",
        "#Train the model using the training sets\n",
        "regressor.fit(X_train, y_train)\n",
        "\n",
        "#Predict the response for test dataset\n",
        "y_pred = regressor.predict(X_test)\n"
      ],
      "execution_count": null,
      "outputs": [
        {
          "output_type": "error",
          "ename": "NameError",
          "evalue": "ignored",
          "traceback": [
            "\u001b[0;31m---------------------------------------------------------------------------\u001b[0m",
            "\u001b[0;31mNameError\u001b[0m                                 Traceback (most recent call last)",
            "\u001b[0;32m<ipython-input-1-6c4b0796ae45>\u001b[0m in \u001b[0;36m<module>\u001b[0;34m()\u001b[0m\n\u001b[1;32m      1\u001b[0m \u001b[0;31m#Split dataset into training set and test set\u001b[0m\u001b[0;34m\u001b[0m\u001b[0;34m\u001b[0m\u001b[0;34m\u001b[0m\u001b[0m\n\u001b[1;32m      2\u001b[0m \u001b[0;32mfrom\u001b[0m \u001b[0msklearn\u001b[0m\u001b[0;34m.\u001b[0m\u001b[0mmodel_selection\u001b[0m \u001b[0;32mimport\u001b[0m \u001b[0mtrain_test_split\u001b[0m\u001b[0;34m\u001b[0m\u001b[0;34m\u001b[0m\u001b[0m\n\u001b[0;32m----> 3\u001b[0;31m \u001b[0mX_train1\u001b[0m\u001b[0;34m,\u001b[0m \u001b[0mX_test1\u001b[0m\u001b[0;34m,\u001b[0m \u001b[0my_train\u001b[0m\u001b[0;34m,\u001b[0m \u001b[0my_test\u001b[0m \u001b[0;34m=\u001b[0m \u001b[0mtrain_test_split\u001b[0m\u001b[0;34m(\u001b[0m\u001b[0mX\u001b[0m\u001b[0;34m,\u001b[0m \u001b[0my\u001b[0m\u001b[0;34m,\u001b[0m \u001b[0mtest_size\u001b[0m\u001b[0;34m=\u001b[0m\u001b[0;36m0.2\u001b[0m\u001b[0;34m,\u001b[0m\u001b[0mrandom_state\u001b[0m\u001b[0;34m=\u001b[0m\u001b[0;36m109\u001b[0m\u001b[0;34m)\u001b[0m \u001b[0;31m# 70% training and 30% test\u001b[0m\u001b[0;34m\u001b[0m\u001b[0;34m\u001b[0m\u001b[0m\n\u001b[0m\u001b[1;32m      4\u001b[0m \u001b[0;31m#Generating Model\u001b[0m\u001b[0;34m\u001b[0m\u001b[0;34m\u001b[0m\u001b[0;34m\u001b[0m\u001b[0m\n\u001b[1;32m      5\u001b[0m \u001b[0;34m\u001b[0m\u001b[0m\n",
            "\u001b[0;31mNameError\u001b[0m: name 'X' is not defined"
          ]
        }
      ]
    }
  ]
}