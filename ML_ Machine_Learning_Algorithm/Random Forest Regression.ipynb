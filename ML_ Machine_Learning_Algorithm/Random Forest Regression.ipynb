{
 "cells": [
  {
   "cell_type": "markdown",
   "id": "cc0c27f7",
   "metadata": {},
   "source": [
    "# Business Problem - Predict the price of Banglore House "
   ]
  },
  {
   "cell_type": "markdown",
   "id": "515c20d0",
   "metadata": {},
   "source": [
    "# Using Random Forest Regression - Supervised Machine Learning Algorithm"
   ]
  },
  {
   "cell_type": "markdown",
   "id": "538a9d76",
   "metadata": {},
   "source": [
    "Load Libraries"
   ]
  },
  {
   "cell_type": "code",
   "execution_count": 2,
   "id": "edbcf4c1",
   "metadata": {},
   "outputs": [],
   "source": [
    "import pandas as pd"
   ]
  },
  {
   "cell_type": "markdown",
   "id": "e0b6cb3d",
   "metadata": {},
   "source": [
    "Load Data"
   ]
  },
  {
   "cell_type": "code",
   "execution_count": 3,
   "id": "261e0309",
   "metadata": {},
   "outputs": [
    {
     "data": {
      "text/html": [
       "<div>\n",
       "<style scoped>\n",
       "    .dataframe tbody tr th:only-of-type {\n",
       "        vertical-align: middle;\n",
       "    }\n",
       "\n",
       "    .dataframe tbody tr th {\n",
       "        vertical-align: top;\n",
       "    }\n",
       "\n",
       "    .dataframe thead th {\n",
       "        text-align: right;\n",
       "    }\n",
       "</style>\n",
       "<table border=\"1\" class=\"dataframe\">\n",
       "  <thead>\n",
       "    <tr style=\"text-align: right;\">\n",
       "      <th></th>\n",
       "      <th>bath</th>\n",
       "      <th>balcony</th>\n",
       "      <th>price</th>\n",
       "      <th>total_sqft_int</th>\n",
       "      <th>bhk</th>\n",
       "      <th>price_per_sqft</th>\n",
       "      <th>area_typeSuper built-up  Area</th>\n",
       "      <th>area_typeBuilt-up  Area</th>\n",
       "      <th>area_typePlot  Area</th>\n",
       "      <th>availability_Ready To Move</th>\n",
       "      <th>...</th>\n",
       "      <th>location_Kalena Agrahara</th>\n",
       "      <th>location_Horamavu Agara</th>\n",
       "      <th>location_Vidyaranyapura</th>\n",
       "      <th>location_BTM 2nd Stage</th>\n",
       "      <th>location_Hebbal Kempapura</th>\n",
       "      <th>location_Hosur Road</th>\n",
       "      <th>location_Horamavu Banaswadi</th>\n",
       "      <th>location_Domlur</th>\n",
       "      <th>location_Mahadevpura</th>\n",
       "      <th>location_Tumkur Road</th>\n",
       "    </tr>\n",
       "  </thead>\n",
       "  <tbody>\n",
       "    <tr>\n",
       "      <th>0</th>\n",
       "      <td>3.0</td>\n",
       "      <td>2.0</td>\n",
       "      <td>150.0</td>\n",
       "      <td>1672.0</td>\n",
       "      <td>3</td>\n",
       "      <td>8971.291866</td>\n",
       "      <td>1</td>\n",
       "      <td>0</td>\n",
       "      <td>0</td>\n",
       "      <td>1</td>\n",
       "      <td>...</td>\n",
       "      <td>0</td>\n",
       "      <td>0</td>\n",
       "      <td>0</td>\n",
       "      <td>0</td>\n",
       "      <td>0</td>\n",
       "      <td>0</td>\n",
       "      <td>0</td>\n",
       "      <td>0</td>\n",
       "      <td>0</td>\n",
       "      <td>0</td>\n",
       "    </tr>\n",
       "    <tr>\n",
       "      <th>1</th>\n",
       "      <td>3.0</td>\n",
       "      <td>3.0</td>\n",
       "      <td>149.0</td>\n",
       "      <td>1750.0</td>\n",
       "      <td>3</td>\n",
       "      <td>8514.285714</td>\n",
       "      <td>0</td>\n",
       "      <td>1</td>\n",
       "      <td>0</td>\n",
       "      <td>1</td>\n",
       "      <td>...</td>\n",
       "      <td>0</td>\n",
       "      <td>0</td>\n",
       "      <td>0</td>\n",
       "      <td>0</td>\n",
       "      <td>0</td>\n",
       "      <td>0</td>\n",
       "      <td>0</td>\n",
       "      <td>0</td>\n",
       "      <td>0</td>\n",
       "      <td>0</td>\n",
       "    </tr>\n",
       "    <tr>\n",
       "      <th>2</th>\n",
       "      <td>3.0</td>\n",
       "      <td>2.0</td>\n",
       "      <td>150.0</td>\n",
       "      <td>1750.0</td>\n",
       "      <td>3</td>\n",
       "      <td>8571.428571</td>\n",
       "      <td>1</td>\n",
       "      <td>0</td>\n",
       "      <td>0</td>\n",
       "      <td>1</td>\n",
       "      <td>...</td>\n",
       "      <td>0</td>\n",
       "      <td>0</td>\n",
       "      <td>0</td>\n",
       "      <td>0</td>\n",
       "      <td>0</td>\n",
       "      <td>0</td>\n",
       "      <td>0</td>\n",
       "      <td>0</td>\n",
       "      <td>0</td>\n",
       "      <td>0</td>\n",
       "    </tr>\n",
       "    <tr>\n",
       "      <th>3</th>\n",
       "      <td>2.0</td>\n",
       "      <td>2.0</td>\n",
       "      <td>40.0</td>\n",
       "      <td>1250.0</td>\n",
       "      <td>2</td>\n",
       "      <td>3200.000000</td>\n",
       "      <td>1</td>\n",
       "      <td>0</td>\n",
       "      <td>0</td>\n",
       "      <td>1</td>\n",
       "      <td>...</td>\n",
       "      <td>0</td>\n",
       "      <td>0</td>\n",
       "      <td>0</td>\n",
       "      <td>0</td>\n",
       "      <td>0</td>\n",
       "      <td>0</td>\n",
       "      <td>0</td>\n",
       "      <td>0</td>\n",
       "      <td>0</td>\n",
       "      <td>0</td>\n",
       "    </tr>\n",
       "    <tr>\n",
       "      <th>4</th>\n",
       "      <td>2.0</td>\n",
       "      <td>2.0</td>\n",
       "      <td>83.0</td>\n",
       "      <td>1200.0</td>\n",
       "      <td>2</td>\n",
       "      <td>6916.666667</td>\n",
       "      <td>0</td>\n",
       "      <td>0</td>\n",
       "      <td>1</td>\n",
       "      <td>1</td>\n",
       "      <td>...</td>\n",
       "      <td>0</td>\n",
       "      <td>0</td>\n",
       "      <td>0</td>\n",
       "      <td>0</td>\n",
       "      <td>0</td>\n",
       "      <td>0</td>\n",
       "      <td>0</td>\n",
       "      <td>0</td>\n",
       "      <td>0</td>\n",
       "      <td>0</td>\n",
       "    </tr>\n",
       "  </tbody>\n",
       "</table>\n",
       "<p>5 rows × 108 columns</p>\n",
       "</div>"
      ],
      "text/plain": [
       "   bath  balcony  price  total_sqft_int  bhk  price_per_sqft  \\\n",
       "0   3.0      2.0  150.0          1672.0    3     8971.291866   \n",
       "1   3.0      3.0  149.0          1750.0    3     8514.285714   \n",
       "2   3.0      2.0  150.0          1750.0    3     8571.428571   \n",
       "3   2.0      2.0   40.0          1250.0    2     3200.000000   \n",
       "4   2.0      2.0   83.0          1200.0    2     6916.666667   \n",
       "\n",
       "   area_typeSuper built-up  Area  area_typeBuilt-up  Area  \\\n",
       "0                              1                        0   \n",
       "1                              0                        1   \n",
       "2                              1                        0   \n",
       "3                              1                        0   \n",
       "4                              0                        0   \n",
       "\n",
       "   area_typePlot  Area  availability_Ready To Move  ...  \\\n",
       "0                    0                           1  ...   \n",
       "1                    0                           1  ...   \n",
       "2                    0                           1  ...   \n",
       "3                    0                           1  ...   \n",
       "4                    1                           1  ...   \n",
       "\n",
       "   location_Kalena Agrahara  location_Horamavu Agara  location_Vidyaranyapura  \\\n",
       "0                         0                        0                        0   \n",
       "1                         0                        0                        0   \n",
       "2                         0                        0                        0   \n",
       "3                         0                        0                        0   \n",
       "4                         0                        0                        0   \n",
       "\n",
       "   location_BTM 2nd Stage  location_Hebbal Kempapura  location_Hosur Road  \\\n",
       "0                       0                          0                    0   \n",
       "1                       0                          0                    0   \n",
       "2                       0                          0                    0   \n",
       "3                       0                          0                    0   \n",
       "4                       0                          0                    0   \n",
       "\n",
       "   location_Horamavu Banaswadi  location_Domlur  location_Mahadevpura  \\\n",
       "0                            0                0                     0   \n",
       "1                            0                0                     0   \n",
       "2                            0                0                     0   \n",
       "3                            0                0                     0   \n",
       "4                            0                0                     0   \n",
       "\n",
       "   location_Tumkur Road  \n",
       "0                     0  \n",
       "1                     0  \n",
       "2                     0  \n",
       "3                     0  \n",
       "4                     0  \n",
       "\n",
       "[5 rows x 108 columns]"
      ]
     },
     "execution_count": 3,
     "metadata": {},
     "output_type": "execute_result"
    }
   ],
   "source": [
    "df = pd.read_csv(\"bangalore house price prediction OHE-data.csv\")\n",
    "df.head()"
   ]
  },
  {
   "cell_type": "markdown",
   "id": "78e21b65",
   "metadata": {},
   "source": [
    "# Split Data"
   ]
  },
  {
   "cell_type": "code",
   "execution_count": 4,
   "id": "1202c21f",
   "metadata": {},
   "outputs": [
    {
     "name": "stdout",
     "output_type": "stream",
     "text": [
      "Shape of X =  (7120, 107)\n",
      "Shape of y =  (7120,)\n"
     ]
    }
   ],
   "source": [
    "X = df.drop('price',axis=1)\n",
    "y = df['price']\n",
    "\n",
    "print('Shape of X = ', X.shape)\n",
    "print('Shape of y = ', y.shape)"
   ]
  },
  {
   "cell_type": "code",
   "execution_count": 5,
   "id": "67e5c3bf",
   "metadata": {},
   "outputs": [
    {
     "name": "stdout",
     "output_type": "stream",
     "text": [
      "Shape of X_train =  (5696, 107)\n",
      "Shape of X_test =  (1424, 107)\n",
      "Shape of y_train =  (5696,)\n",
      "Shape of y_test =  (1424,)\n"
     ]
    }
   ],
   "source": [
    "from sklearn.model_selection import train_test_split\n",
    "X_train,X_test,y_train,y_test = train_test_split(X, y , test_size=0.2, random_state=51)\n",
    "\n",
    "print('Shape of X_train = ', X_train.shape)\n",
    "print('Shape of X_test = ', X_test.shape)\n",
    "print('Shape of y_train = ', y_train.shape)\n",
    "print('Shape of y_test = ', y_test.shape)"
   ]
  },
  {
   "cell_type": "markdown",
   "id": "6a89baee",
   "metadata": {},
   "source": [
    "# Train Random Forest Regression Model"
   ]
  },
  {
   "cell_type": "code",
   "execution_count": 6,
   "id": "bae87b4a",
   "metadata": {},
   "outputs": [],
   "source": [
    "from sklearn.ensemble import RandomForestRegressor"
   ]
  },
  {
   "cell_type": "raw",
   "id": "3d811845",
   "metadata": {},
   "source": [
    "RandomForestRegressor()\n",
    "Init signature:\n",
    "RandomForestRegressor(\n",
    "    n_estimators=100,\n",
    "    *,\n",
    "    criterion='squared_error',\n",
    "    max_depth=None,\n",
    "    min_samples_split=2,\n",
    "    min_samples_leaf=1,\n",
    "    min_weight_fraction_leaf=0.0,\n",
    "    max_features='auto',\n",
    "    max_leaf_nodes=None,\n",
    "    min_impurity_decrease=0.0,\n",
    "    bootstrap=True,\n",
    "    oob_score=False,\n",
    "    n_jobs=None,\n",
    "    random_state=None,\n",
    "    verbose=0,\n",
    "    warm_start=False,\n",
    "    ccp_alpha=0.0,\n",
    "    max_samples=None,\n",
    ")\n",
    "Docstring:     \n",
    "A random forest regressor.\n",
    "\n",
    "A random forest is a meta estimator that fits a number of classifying\n",
    "decision trees on various sub-samples of the dataset and uses averaging\n",
    "to improve the predictive accuracy and control over-fitting.\n",
    "The sub-sample size is controlled with the `max_samples` parameter if\n",
    "`bootstrap=True` (default), otherwise the whole dataset is used to build\n",
    "each tree.\n",
    "\n",
    "Read more in the :ref:`User Guide <forest>`.\n",
    "\n",
    "Parameters\n",
    "----------\n",
    "n_estimators : int, default=100\n",
    "    The number of trees in the forest.\n",
    "\n",
    "    .. versionchanged:: 0.22\n",
    "       The default value of ``n_estimators`` changed from 10 to 100\n",
    "       in 0.22.\n",
    "\n",
    "criterion : {\"squared_error\", \"absolute_error\", \"poisson\"},             default=\"squared_error\"\n",
    "    The function to measure the quality of a split. Supported criteria\n",
    "    are \"squared_error\" for the mean squared error, which is equal to\n",
    "    variance reduction as feature selection criterion, \"absolute_error\"\n",
    "    for the mean absolute error, and \"poisson\" which uses reduction in\n",
    "    Poisson deviance to find splits.\n",
    "    Training using \"absolute_error\" is significantly slower\n",
    "    than when using \"squared_error\".\n",
    "\n",
    "    .. versionadded:: 0.18\n",
    "       Mean Absolute Error (MAE) criterion.\n",
    "\n",
    "    .. versionadded:: 1.0\n",
    "       Poisson criterion.\n",
    "\n",
    "    .. deprecated:: 1.0\n",
    "        Criterion \"mse\" was deprecated in v1.0 and will be removed in\n",
    "        version 1.2. Use `criterion=\"squared_error\"` which is equivalent.\n",
    "\n",
    "    .. deprecated:: 1.0\n",
    "        Criterion \"mae\" was deprecated in v1.0 and will be removed in\n",
    "        version 1.2. Use `criterion=\"absolute_error\"` which is equivalent.\n",
    "\n",
    "max_depth : int, default=None\n",
    "    The maximum depth of the tree. If None, then nodes are expanded until\n",
    "    all leaves are pure or until all leaves contain less than\n",
    "    min_samples_split samples.\n",
    "\n",
    "min_samples_split : int or float, default=2\n",
    "    The minimum number of samples required to split an internal node:\n",
    "\n",
    "    - If int, then consider `min_samples_split` as the minimum number.\n",
    "    - If float, then `min_samples_split` is a fraction and\n",
    "      `ceil(min_samples_split * n_samples)` are the minimum\n",
    "      number of samples for each split.\n",
    "\n",
    "    .. versionchanged:: 0.18\n",
    "       Added float values for fractions.\n",
    "\n",
    "min_samples_leaf : int or float, default=1\n",
    "    The minimum number of samples required to be at a leaf node.\n",
    "    A split point at any depth will only be considered if it leaves at\n",
    "    least ``min_samples_leaf`` training samples in each of the left and\n",
    "    right branches.  This may have the effect of smoothing the model,\n",
    "    especially in regression.\n",
    "\n",
    "    - If int, then consider `min_samples_leaf` as the minimum number.\n",
    "    - If float, then `min_samples_leaf` is a fraction and\n",
    "      `ceil(min_samples_leaf * n_samples)` are the minimum\n",
    "      number of samples for each node.\n",
    "\n",
    "    .. versionchanged:: 0.18\n",
    "       Added float values for fractions.\n",
    "\n",
    "min_weight_fraction_leaf : float, default=0.0\n",
    "    The minimum weighted fraction of the sum total of weights (of all\n",
    "    the input samples) required to be at a leaf node. Samples have\n",
    "    equal weight when sample_weight is not provided.\n",
    "\n",
    "max_features : {\"auto\", \"sqrt\", \"log2\"}, int or float, default=\"auto\"\n",
    "    The number of features to consider when looking for the best split:\n",
    "\n",
    "    - If int, then consider `max_features` features at each split.\n",
    "    - If float, then `max_features` is a fraction and\n",
    "      `round(max_features * n_features)` features are considered at each\n",
    "      split.\n",
    "    - If \"auto\", then `max_features=n_features`.\n",
    "    - If \"sqrt\", then `max_features=sqrt(n_features)`.\n",
    "    - If \"log2\", then `max_features=log2(n_features)`.\n",
    "    - If None, then `max_features=n_features`.\n",
    "\n",
    "    Note: the search for a split does not stop until at least one\n",
    "    valid partition of the node samples is found, even if it requires to\n",
    "    effectively inspect more than ``max_features`` features.\n",
    "\n",
    "max_leaf_nodes : int, default=None\n",
    "    Grow trees with ``max_leaf_nodes`` in best-first fashion.\n",
    "    Best nodes are defined as relative reduction in impurity.\n",
    "    If None then unlimited number of leaf nodes.\n",
    "\n",
    "min_impurity_decrease : float, default=0.0\n",
    "    A node will be split if this split induces a decrease of the impurity\n",
    "    greater than or equal to this value.\n",
    "\n",
    "    The weighted impurity decrease equation is the following::\n",
    "\n",
    "        N_t / N * (impurity - N_t_R / N_t * right_impurity\n",
    "                            - N_t_L / N_t * left_impurity)\n",
    "\n",
    "    where ``N`` is the total number of samples, ``N_t`` is the number of\n",
    "    samples at the current node, ``N_t_L`` is the number of samples in the\n",
    "    left child, and ``N_t_R`` is the number of samples in the right child.\n",
    "\n",
    "    ``N``, ``N_t``, ``N_t_R`` and ``N_t_L`` all refer to the weighted sum,\n",
    "    if ``sample_weight`` is passed.\n",
    "\n",
    "    .. versionadded:: 0.19\n",
    "\n",
    "bootstrap : bool, default=True\n",
    "    Whether bootstrap samples are used when building trees. If False, the\n",
    "    whole dataset is used to build each tree.\n",
    "\n",
    "oob_score : bool, default=False\n",
    "    Whether to use out-of-bag samples to estimate the generalization score.\n",
    "    Only available if bootstrap=True.\n",
    "\n",
    "n_jobs : int, default=None\n",
    "    The number of jobs to run in parallel. :meth:`fit`, :meth:`predict`,\n",
    "    :meth:`decision_path` and :meth:`apply` are all parallelized over the\n",
    "    trees. ``None`` means 1 unless in a :obj:`joblib.parallel_backend`\n",
    "    context. ``-1`` means using all processors. See :term:`Glossary\n",
    "    <n_jobs>` for more details.\n",
    "\n",
    "random_state : int, RandomState instance or None, default=None\n",
    "    Controls both the randomness of the bootstrapping of the samples used\n",
    "    when building trees (if ``bootstrap=True``) and the sampling of the\n",
    "    features to consider when looking for the best split at each node\n",
    "    (if ``max_features < n_features``).\n",
    "    See :term:`Glossary <random_state>` for details.\n",
    "\n",
    "verbose : int, default=0\n",
    "    Controls the verbosity when fitting and predicting.\n",
    "\n",
    "warm_start : bool, default=False\n",
    "    When set to ``True``, reuse the solution of the previous call to fit\n",
    "    and add more estimators to the ensemble, otherwise, just fit a whole\n",
    "    new forest. See :term:`the Glossary <warm_start>`.\n",
    "\n",
    "ccp_alpha : non-negative float, default=0.0\n",
    "    Complexity parameter used for Minimal Cost-Complexity Pruning. The\n",
    "    subtree with the largest cost complexity that is smaller than\n",
    "    ``ccp_alpha`` will be chosen. By default, no pruning is performed. See\n",
    "    :ref:`minimal_cost_complexity_pruning` for details.\n",
    "\n",
    "    .. versionadded:: 0.22\n",
    "\n",
    "max_samples : int or float, default=None\n",
    "    If bootstrap is True, the number of samples to draw from X\n",
    "    to train each base estimator.\n",
    "\n",
    "    - If None (default), then draw `X.shape[0]` samples.\n",
    "    - If int, then draw `max_samples` samples.\n",
    "    - If float, then draw `max_samples * X.shape[0]` samples. Thus,\n",
    "      `max_samples` should be in the interval `(0.0, 1.0]`.\n",
    "\n",
    "    .. versionadded:: 0.22\n",
    "\n",
    "Attributes\n",
    "----------\n",
    "base_estimator_ : DecisionTreeRegressor\n",
    "    The child estimator template used to create the collection of fitted\n",
    "    sub-estimators.\n",
    "\n",
    "estimators_ : list of DecisionTreeRegressor\n",
    "    The collection of fitted sub-estimators.\n",
    "\n",
    "feature_importances_ : ndarray of shape (n_features,)\n",
    "    The impurity-based feature importances.\n",
    "    The higher, the more important the feature.\n",
    "    The importance of a feature is computed as the (normalized)\n",
    "    total reduction of the criterion brought by that feature.  It is also\n",
    "    known as the Gini importance.\n",
    "\n",
    "    Warning: impurity-based feature importances can be misleading for\n",
    "    high cardinality features (many unique values). See\n",
    "    :func:`sklearn.inspection.permutation_importance` as an alternative.\n",
    "\n",
    "n_features_ : int\n",
    "    The number of features when ``fit`` is performed.\n",
    "\n",
    "    .. deprecated:: 1.0\n",
    "        Attribute `n_features_` was deprecated in version 1.0 and will be\n",
    "        removed in 1.2. Use `n_features_in_` instead.\n",
    "\n",
    "n_features_in_ : int\n",
    "    Number of features seen during :term:`fit`.\n",
    "\n",
    "    .. versionadded:: 0.24\n",
    "\n",
    "feature_names_in_ : ndarray of shape (`n_features_in_`,)\n",
    "    Names of features seen during :term:`fit`. Defined only when `X`\n",
    "    has feature names that are all strings.\n",
    "\n",
    "    .. versionadded:: 1.0\n",
    "\n",
    "n_outputs_ : int\n",
    "    The number of outputs when ``fit`` is performed.\n",
    "\n",
    "oob_score_ : float\n",
    "    Score of the training dataset obtained using an out-of-bag estimate.\n",
    "    This attribute exists only when ``oob_score`` is True.\n",
    "\n",
    "oob_prediction_ : ndarray of shape (n_samples,) or (n_samples, n_outputs)\n",
    "    Prediction computed with out-of-bag estimate on the training set.\n",
    "    This attribute exists only when ``oob_score`` is True.\n"
   ]
  },
  {
   "cell_type": "code",
   "execution_count": 10,
   "id": "dd8d08c0",
   "metadata": {},
   "outputs": [],
   "source": [
    "regressor = RandomForestRegressor(n_estimators=100,criterion='squared_error')"
   ]
  },
  {
   "cell_type": "code",
   "execution_count": 11,
   "id": "9c0b9bc7",
   "metadata": {},
   "outputs": [
    {
     "data": {
      "text/plain": [
       "RandomForestRegressor()"
      ]
     },
     "execution_count": 11,
     "metadata": {},
     "output_type": "execute_result"
    }
   ],
   "source": [
    "regressor.fit(X_train,y_train)"
   ]
  },
  {
   "cell_type": "code",
   "execution_count": 12,
   "id": "0e6d56b6",
   "metadata": {},
   "outputs": [
    {
     "data": {
      "text/plain": [
       "0.8975061211950465"
      ]
     },
     "execution_count": 12,
     "metadata": {},
     "output_type": "execute_result"
    }
   ],
   "source": [
    "regressor.score(X_test,y_test)"
   ]
  },
  {
   "cell_type": "code",
   "execution_count": 13,
   "id": "99547c74",
   "metadata": {},
   "outputs": [
    {
     "data": {
      "text/plain": [
       "0.8925507875266584"
      ]
     },
     "execution_count": 13,
     "metadata": {},
     "output_type": "execute_result"
    }
   ],
   "source": [
    "regressor_500 = RandomForestRegressor(n_estimators=500,criterion='squared_error')\n",
    "regressor_500.fit(X_train,y_train)\n",
    "regressor_500.score(X_test,y_test)"
   ]
  },
  {
   "cell_type": "markdown",
   "id": "5c46065a",
   "metadata": {},
   "source": [
    "# Predict the value of Home"
   ]
  },
  {
   "cell_type": "code",
   "execution_count": 14,
   "id": "a8ae38a2",
   "metadata": {},
   "outputs": [
    {
     "data": {
      "text/plain": [
       "bath                               2.000000\n",
       "balcony                            0.000000\n",
       "total_sqft_int                  1566.000000\n",
       "bhk                                2.000000\n",
       "price_per_sqft                 11494.252874\n",
       "                                   ...     \n",
       "location_Hosur Road                0.000000\n",
       "location_Horamavu Banaswadi        0.000000\n",
       "location_Domlur                    0.000000\n",
       "location_Mahadevpura               0.000000\n",
       "location_Tumkur Road               0.000000\n",
       "Name: 43, Length: 107, dtype: float64"
      ]
     },
     "execution_count": 14,
     "metadata": {},
     "output_type": "execute_result"
    }
   ],
   "source": [
    "X_test.iloc[-1,:]"
   ]
  },
  {
   "cell_type": "code",
   "execution_count": 15,
   "id": "d1cfe7c0",
   "metadata": {},
   "outputs": [
    {
     "name": "stderr",
     "output_type": "stream",
     "text": [
      "C:\\Users\\shubh\\anaconda3\\lib\\site-packages\\sklearn\\base.py:450: UserWarning: X does not have valid feature names, but RandomForestRegressor was fitted with feature names\n",
      "  warnings.warn(\n"
     ]
    },
    {
     "data": {
      "text/plain": [
       "array([175.09])"
      ]
     },
     "execution_count": 15,
     "metadata": {},
     "output_type": "execute_result"
    }
   ],
   "source": [
    "pred = regressor.predict([X_test.iloc[-1,:]])\n",
    "pred"
   ]
  },
  {
   "cell_type": "code",
   "execution_count": 16,
   "id": "d5803b14",
   "metadata": {},
   "outputs": [
    {
     "data": {
      "text/plain": [
       "180.0"
      ]
     },
     "execution_count": 16,
     "metadata": {},
     "output_type": "execute_result"
    }
   ],
   "source": [
    "y_test.iloc[-1]"
   ]
  },
  {
   "cell_type": "code",
   "execution_count": 18,
   "id": "c30bbd8f",
   "metadata": {},
   "outputs": [
    {
     "data": {
      "text/plain": [
       "array([ 79.931  ,  39.9782 , 119.7    , ...,  33.18635,  63.2768 ,\n",
       "       175.09   ])"
      ]
     },
     "execution_count": 18,
     "metadata": {},
     "output_type": "execute_result"
    }
   ],
   "source": [
    "pred_mult = regressor.predict(X_test)\n",
    "pred_mult"
   ]
  },
  {
   "cell_type": "code",
   "execution_count": 19,
   "id": "90dbf6d3",
   "metadata": {},
   "outputs": [
    {
     "data": {
      "text/plain": [
       "2435     80.00\n",
       "3113     40.00\n",
       "426     120.00\n",
       "1124     79.00\n",
       "1161     45.00\n",
       "         ...  \n",
       "2078     28.34\n",
       "6855     84.00\n",
       "4381     32.00\n",
       "3862     63.00\n",
       "43      180.00\n",
       "Name: price, Length: 1424, dtype: float64"
      ]
     },
     "execution_count": 19,
     "metadata": {},
     "output_type": "execute_result"
    }
   ],
   "source": [
    "y_test"
   ]
  },
  {
   "cell_type": "code",
   "execution_count": null,
   "id": "ac66185d",
   "metadata": {},
   "outputs": [],
   "source": []
  }
 ],
 "metadata": {
  "kernelspec": {
   "display_name": "Python 3 (ipykernel)",
   "language": "python",
   "name": "python3"
  },
  "language_info": {
   "codemirror_mode": {
    "name": "ipython",
    "version": 3
   },
   "file_extension": ".py",
   "mimetype": "text/x-python",
   "name": "python",
   "nbconvert_exporter": "python",
   "pygments_lexer": "ipython3",
   "version": "3.9.12"
  }
 },
 "nbformat": 4,
 "nbformat_minor": 5
}
