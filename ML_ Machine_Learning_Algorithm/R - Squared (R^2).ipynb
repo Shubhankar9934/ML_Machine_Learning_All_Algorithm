{
 "cells": [
  {
   "cell_type": "markdown",
   "id": "7f115123",
   "metadata": {},
   "source": [
    "# What is R-Squared ?"
   ]
  },
  {
   "cell_type": "raw",
   "id": "58b65494",
   "metadata": {},
   "source": [
    "R-Squared is a statistical measure of how close the data are to the fitted \n",
    "regression line. it is also known as the coefficient of determination ,\n",
    "or the coefficient of multiple determination for multiple regression."
   ]
  },
  {
   "cell_type": "raw",
   "id": "7dabbb7e",
   "metadata": {},
   "source": [
    "R 2 = 1 − sum squared regression (SSR) total sum of squares (SST) , =\n",
    "1 − ∑ ( y i − y i ^ ) 2 ∑ ( y i − y ¯ ) 2 .\n",
    "The sum squared regression is the sum of the residuals squared, \n",
    "and the total sum of squares is the sum of the distance the data\n",
    "is away from the mean all squared."
   ]
  },
  {
   "cell_type": "code",
   "execution_count": 1,
   "id": "e85d569c",
   "metadata": {},
   "outputs": [],
   "source": [
    "import pandas as pd\n",
    "from sklearn.model_selection import train_test_split\n",
    "from sklearn.preprocessing import StandardScaler\n",
    "from sklearn.linear_model import LinearRegression"
   ]
  },
  {
   "cell_type": "code",
   "execution_count": 2,
   "id": "d19d881f",
   "metadata": {},
   "outputs": [],
   "source": [
    "# Load dataset\n",
    "df = pd.read_csv(\"bangalore house price prediction OHE-data.csv\")\n"
   ]
  },
  {
   "cell_type": "code",
   "execution_count": 3,
   "id": "730b8001",
   "metadata": {},
   "outputs": [
    {
     "name": "stdout",
     "output_type": "stream",
     "text": [
      "shape of X =  (7120, 107)\n",
      "shape of y =  (7120,)\n"
     ]
    }
   ],
   "source": [
    "X = df.drop(\"price\", axis=1)\n",
    "y = df[\"price\"]\n",
    "\n",
    "print(\"shape of X = \", X.shape)\n",
    "print(\"shape of y = \", y.shape)"
   ]
  },
  {
   "cell_type": "code",
   "execution_count": 4,
   "id": "76d01270",
   "metadata": {},
   "outputs": [
    {
     "name": "stdout",
     "output_type": "stream",
     "text": [
      "shape of X_train =  (5696, 107)\n",
      "shape of X_test =  (1424, 107)\n",
      "shape of y_train =  (5696,)\n",
      "shape of y_test =  (1424,)\n"
     ]
    }
   ],
   "source": [
    "X_train,X_test,y_train,y_test = train_test_split(X,y,\n",
    "                                test_size=0.2,\n",
    "                                train_size=None,\n",
    "                                random_state=51,\n",
    "                                shuffle=True,\n",
    "                                stratify=None,)\n",
    "\n",
    "print(\"shape of X_train = \", X_train.shape)\n",
    "print(\"shape of X_test = \", X_test.shape)\n",
    "print(\"shape of y_train = \", y_train.shape)\n",
    "print(\"shape of y_test = \", y_test.shape)"
   ]
  },
  {
   "cell_type": "code",
   "execution_count": 5,
   "id": "64c8d790",
   "metadata": {},
   "outputs": [],
   "source": [
    "sc = StandardScaler()\n",
    "sc.fit(X_train)\n",
    "X_train = sc.transform(X_train)\n",
    "X_test = sc.transform(X_test)"
   ]
  },
  {
   "cell_type": "code",
   "execution_count": 10,
   "id": "11786b96",
   "metadata": {},
   "outputs": [
    {
     "data": {
      "text/plain": [
       "0.7903837092682244"
      ]
     },
     "execution_count": 10,
     "metadata": {},
     "output_type": "execute_result"
    }
   ],
   "source": [
    "lr = LinearRegression()\n",
    "lr.fit(X_train,y_train)\n",
    "lr.score(X_test,y_test,)"
   ]
  },
  {
   "cell_type": "code",
   "execution_count": 11,
   "id": "f34c1a6e",
   "metadata": {},
   "outputs": [],
   "source": [
    "y_pred = lr.predict(X_test)"
   ]
  },
  {
   "cell_type": "markdown",
   "id": "855e8362",
   "metadata": {},
   "source": [
    "# R - Squared"
   ]
  },
  {
   "cell_type": "code",
   "execution_count": 9,
   "id": "01ede8cc",
   "metadata": {},
   "outputs": [],
   "source": [
    "from sklearn.metrics import r2_score"
   ]
  },
  {
   "cell_type": "code",
   "execution_count": 12,
   "id": "3ee88519",
   "metadata": {},
   "outputs": [
    {
     "data": {
      "text/plain": [
       "0.7903837092682244"
      ]
     },
     "execution_count": 12,
     "metadata": {},
     "output_type": "execute_result"
    }
   ],
   "source": [
    "r2_score(y_test,y_pred)"
   ]
  },
  {
   "cell_type": "code",
   "execution_count": null,
   "id": "2e228336",
   "metadata": {},
   "outputs": [],
   "source": []
  }
 ],
 "metadata": {
  "kernelspec": {
   "display_name": "Python 3 (ipykernel)",
   "language": "python",
   "name": "python3"
  },
  "language_info": {
   "codemirror_mode": {
    "name": "ipython",
    "version": 3
   },
   "file_extension": ".py",
   "mimetype": "text/x-python",
   "name": "python",
   "nbconvert_exporter": "python",
   "pygments_lexer": "ipython3",
   "version": "3.9.12"
  }
 },
 "nbformat": 4,
 "nbformat_minor": 5
}
